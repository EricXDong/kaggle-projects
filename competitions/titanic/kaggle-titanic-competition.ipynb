{
  "nbformat": 4,
  "nbformat_minor": 0,
  "metadata": {
    "kernelspec": {
      "display_name": "Python 3",
      "language": "python",
      "name": "python3"
    },
    "language_info": {
      "codemirror_mode": {
        "name": "ipython",
        "version": 3
      },
      "file_extension": ".py",
      "mimetype": "text/x-python",
      "name": "python",
      "nbconvert_exporter": "python",
      "pygments_lexer": "ipython3",
      "version": "3.8.5"
    },
    "colab": {
      "name": "kaggle-titanic-competition.ipynb",
      "provenance": []
    }
  },
  "cells": [
    {
      "cell_type": "code",
      "metadata": {
        "id": "XiWI94lk2S6y"
      },
      "source": [
        "import matplotlib.pyplot as plt\n",
        "from plotly.subplots import make_subplots\n",
        "import plotly.graph_objects as go\n",
        "import numpy as np\n",
        "import pandas as pd\n",
        "import seaborn as sns\n",
        "import csv\n",
        "\n",
        "# Preprocessing\n",
        "from sklearn.impute import SimpleImputer\n",
        "from sklearn.pipeline import make_pipeline, Pipeline\n",
        "from sklearn.preprocessing import OneHotEncoder\n",
        "from sklearn.compose import ColumnTransformer\n",
        "\n",
        "# Models\n",
        "from sklearn.svm import SVC, LinearSVC\n",
        "from sklearn.neighbors import KNeighborsClassifier\n",
        "from sklearn.ensemble import RandomForestClassifier\n",
        "\n",
        "# Training\n",
        "from sklearn.model_selection import train_test_split, StratifiedKFold\n",
        "\n",
        "# Evaluation\n",
        "from sklearn.metrics import make_scorer\n",
        "from sklearn.model_selection import GridSearchCV\n",
        "from sklearn.metrics import accuracy_score"
      ],
      "execution_count": 1,
      "outputs": []
    },
    {
      "cell_type": "code",
      "metadata": {
        "id": "1WoN71Gj2S62"
      },
      "source": [
        "class Col:\n",
        "    id = 'PassengerId'\n",
        "    pclass = 'Pclass'\n",
        "    name = 'Name'\n",
        "    sex = 'Sex'\n",
        "    age = 'Age'\n",
        "    sibsp = 'SibSp'\n",
        "    parch = 'Parch'\n",
        "    ticket = 'Ticket'\n",
        "    fare = 'Fare'\n",
        "    cabin = 'Cabin'\n",
        "    embarked = 'Embarked'"
      ],
      "execution_count": 2,
      "outputs": []
    },
    {
      "cell_type": "code",
      "metadata": {
        "id": "YIWA71Hi2S62",
        "colab": {
          "base_uri": "https://localhost:8080/",
          "height": 258
        },
        "outputId": "954c0f90-0fd6-4200-d7c0-9a3b048830d2"
      },
      "source": [
        "# Data files live in the GitHub repo for this project\n",
        "dataset = pd.read_csv('https://raw.githubusercontent.com/EricXDong/kaggle-projects/master/competitions/titanic/train.csv')\n",
        "X_test = pd.read_csv('https://raw.githubusercontent.com/EricXDong/kaggle-projects/master/competitions/titanic/test.csv')\n",
        "\n",
        "X_train = dataset.drop(columns = ['Survived'])\n",
        "y_train = dataset['Survived']\n",
        "\n",
        "print(f'{len(y_train)} total passengers')\n",
        "print(f'{y_train.sum()} survived')\n",
        "print(f'{len(y_train) - y_train.sum()} did not survive')\n",
        "X_train.head()"
      ],
      "execution_count": 3,
      "outputs": [
        {
          "output_type": "stream",
          "text": [
            "891 total passengers\n",
            "342 survived\n",
            "549 did not survive\n"
          ],
          "name": "stdout"
        },
        {
          "output_type": "execute_result",
          "data": {
            "text/html": [
              "<div>\n",
              "<style scoped>\n",
              "    .dataframe tbody tr th:only-of-type {\n",
              "        vertical-align: middle;\n",
              "    }\n",
              "\n",
              "    .dataframe tbody tr th {\n",
              "        vertical-align: top;\n",
              "    }\n",
              "\n",
              "    .dataframe thead th {\n",
              "        text-align: right;\n",
              "    }\n",
              "</style>\n",
              "<table border=\"1\" class=\"dataframe\">\n",
              "  <thead>\n",
              "    <tr style=\"text-align: right;\">\n",
              "      <th></th>\n",
              "      <th>PassengerId</th>\n",
              "      <th>Pclass</th>\n",
              "      <th>Name</th>\n",
              "      <th>Sex</th>\n",
              "      <th>Age</th>\n",
              "      <th>SibSp</th>\n",
              "      <th>Parch</th>\n",
              "      <th>Ticket</th>\n",
              "      <th>Fare</th>\n",
              "      <th>Cabin</th>\n",
              "      <th>Embarked</th>\n",
              "    </tr>\n",
              "  </thead>\n",
              "  <tbody>\n",
              "    <tr>\n",
              "      <th>0</th>\n",
              "      <td>1</td>\n",
              "      <td>3</td>\n",
              "      <td>Braund, Mr. Owen Harris</td>\n",
              "      <td>male</td>\n",
              "      <td>22.0</td>\n",
              "      <td>1</td>\n",
              "      <td>0</td>\n",
              "      <td>A/5 21171</td>\n",
              "      <td>7.2500</td>\n",
              "      <td>NaN</td>\n",
              "      <td>S</td>\n",
              "    </tr>\n",
              "    <tr>\n",
              "      <th>1</th>\n",
              "      <td>2</td>\n",
              "      <td>1</td>\n",
              "      <td>Cumings, Mrs. John Bradley (Florence Briggs Th...</td>\n",
              "      <td>female</td>\n",
              "      <td>38.0</td>\n",
              "      <td>1</td>\n",
              "      <td>0</td>\n",
              "      <td>PC 17599</td>\n",
              "      <td>71.2833</td>\n",
              "      <td>C85</td>\n",
              "      <td>C</td>\n",
              "    </tr>\n",
              "    <tr>\n",
              "      <th>2</th>\n",
              "      <td>3</td>\n",
              "      <td>3</td>\n",
              "      <td>Heikkinen, Miss. Laina</td>\n",
              "      <td>female</td>\n",
              "      <td>26.0</td>\n",
              "      <td>0</td>\n",
              "      <td>0</td>\n",
              "      <td>STON/O2. 3101282</td>\n",
              "      <td>7.9250</td>\n",
              "      <td>NaN</td>\n",
              "      <td>S</td>\n",
              "    </tr>\n",
              "    <tr>\n",
              "      <th>3</th>\n",
              "      <td>4</td>\n",
              "      <td>1</td>\n",
              "      <td>Futrelle, Mrs. Jacques Heath (Lily May Peel)</td>\n",
              "      <td>female</td>\n",
              "      <td>35.0</td>\n",
              "      <td>1</td>\n",
              "      <td>0</td>\n",
              "      <td>113803</td>\n",
              "      <td>53.1000</td>\n",
              "      <td>C123</td>\n",
              "      <td>S</td>\n",
              "    </tr>\n",
              "    <tr>\n",
              "      <th>4</th>\n",
              "      <td>5</td>\n",
              "      <td>3</td>\n",
              "      <td>Allen, Mr. William Henry</td>\n",
              "      <td>male</td>\n",
              "      <td>35.0</td>\n",
              "      <td>0</td>\n",
              "      <td>0</td>\n",
              "      <td>373450</td>\n",
              "      <td>8.0500</td>\n",
              "      <td>NaN</td>\n",
              "      <td>S</td>\n",
              "    </tr>\n",
              "  </tbody>\n",
              "</table>\n",
              "</div>"
            ],
            "text/plain": [
              "   PassengerId  Pclass  ... Cabin Embarked\n",
              "0            1       3  ...   NaN        S\n",
              "1            2       1  ...   C85        C\n",
              "2            3       3  ...   NaN        S\n",
              "3            4       1  ...  C123        S\n",
              "4            5       3  ...   NaN        S\n",
              "\n",
              "[5 rows x 11 columns]"
            ]
          },
          "metadata": {
            "tags": []
          },
          "execution_count": 3
        }
      ]
    },
    {
      "cell_type": "markdown",
      "metadata": {
        "id": "RIHYZngu2S63"
      },
      "source": [
        "# Passenger demographics"
      ]
    },
    {
      "cell_type": "code",
      "metadata": {
        "id": "rUUuNlU62S63",
        "colab": {
          "base_uri": "https://localhost:8080/",
          "height": 404
        },
        "outputId": "a36ea9f7-c7f0-4488-fc24-4eb5a5d13b19"
      },
      "source": [
        "# Count the number of males and females\n",
        "num_males = (X_train[Col.sex] == 'male').sum()\n",
        "num_females = (X_train[Col.sex] == 'female').sum()\n",
        "\n",
        "# Plot sex and age distribution\n",
        "\n",
        "fig, (ax1, ax2) = plt.subplots(1, 2, figsize = (15, 6))\n",
        "\n",
        "ax1.set_title('Passenger sex')\n",
        "ax1.bar(['Male', 'Female'], [num_males, num_females])\n",
        "ax1.set_ylabel('# passengers')\n",
        "\n",
        "sns.histplot(data = X_train[Col.age], ax = ax2)\n",
        "ax2.set(ylabel = '# passengers', title = 'Passenger age distribution')\n",
        "\n",
        "pass"
      ],
      "execution_count": 4,
      "outputs": [
        {
          "output_type": "display_data",
          "data": {
            "image/png": "[encoded data removed]",
            "text/plain": [
              "<Figure size 1080x432 with 2 Axes>"
            ]
          },
          "metadata": {
            "tags": [],
            "needs_background": "light"
          }
        }
      ]
    },
    {
      "cell_type": "code",
      "metadata": {
        "id": "WxL8vmDy2S64",
        "colab": {
          "base_uri": "https://localhost:8080/",
          "height": 404
        },
        "outputId": "09895a98-b99b-4365-ec52-d517b8cd1e31"
      },
      "source": [
        "# Examine distribution of relatives\n",
        "\n",
        "fig, (ax1, ax2) = plt.subplots(1, 2, figsize = (15, 6))\n",
        "\n",
        "# Plot siblings and spouses\n",
        "\n",
        "sibsp = np.histogram(X_train[Col.sibsp])[0]\n",
        "x = range(len(sibsp))\n",
        "\n",
        "ax1.bar(x, sibsp)\n",
        "ax1.set(\n",
        "    title = 'Passengers with siblings / spouses',\n",
        "    xlabel = '# siblings / spouses aboard',\n",
        "    ylabel = '# passengers',\n",
        "    xticks = x\n",
        ")\n",
        "\n",
        "# Plot parents and children\n",
        "\n",
        "parch = np.histogram(X_train[Col.parch])[0]\n",
        "x = range(len(parch))\n",
        "\n",
        "ax2.bar(range(len(parch)), parch)\n",
        "ax2.set(\n",
        "    title = 'Passengers with parents / children',\n",
        "    xlabel = '# parents / children aboard',\n",
        "    ylabel = '# passengers',\n",
        "    xticks = x\n",
        ")\n",
        "\n",
        "pass"
      ],
      "execution_count": 5,
      "outputs": [
        {
          "output_type": "display_data",
          "data": {
            "image/png": "[encoded data removed]",
            "text/plain": [
              "<Figure size 1080x432 with 2 Axes>"
            ]
          },
          "metadata": {
            "tags": [],
            "needs_background": "light"
          }
        }
      ]
    },
    {
      "cell_type": "code",
      "metadata": {
        "scrolled": false,
        "id": "mjiRhHI32S65",
        "colab": {
          "base_uri": "https://localhost:8080/",
          "height": 542
        },
        "outputId": "95e3b245-57be-4b92-ec33-165a547a0516"
      },
      "source": [
        "# Count the number of passengers per class\n",
        "class_count = np.histogram(X_train[Col.pclass], bins = 3)\n",
        "class_count = class_count[0]\n",
        "\n",
        "# Get the distribution of fares\n",
        "fares = np.histogram(X_train[Col.fare], bins = range(0, 600, 50))\n",
        "\n",
        "# Plot\n",
        "\n",
        "fig = make_subplots(\n",
        "    rows = 1,\n",
        "    cols = 2,\n",
        "    column_widths = [0.3, 0.7],\n",
        "    subplot_titles = ['Passengers per class', 'Passenger fares']\n",
        ")\n",
        "\n",
        "fig.add_trace(\n",
        "    go.Bar(\n",
        "        x = ['First class', 'Second class', 'Third class'],\n",
        "        y = class_count,\n",
        "        width = 0.5\n",
        "    ),\n",
        "    row = 1,\n",
        "    col = 1\n",
        ")\n",
        "\n",
        "fig.add_trace(\n",
        "    go.Histogram(x = X_train[Col.fare]),\n",
        "    row = 1,\n",
        "    col = 2\n",
        ")\n",
        "\n",
        "fig.update_layout(\n",
        "    showlegend = False\n",
        ")"
      ],
      "execution_count": 6,
      "outputs": [
        {
          "output_type": "display_data",
          "data": {
            "text/html": [
              "<html>\n",
              "<head><meta charset=\"utf-8\" /></head>\n",
              "<body>\n",
              "    <div>\n",
              "            <script src=\"https://cdnjs.cloudflare.com/ajax/libs/mathjax/2.7.5/MathJax.js?config=TeX-AMS-MML_SVG\"></script><script type=\"text/javascript\">if (window.MathJax) {MathJax.Hub.Config({SVG: {font: \"STIX-Web\"}});}</script>\n",
              "                <script type=\"text/javascript\">window.PlotlyConfig = {MathJaxConfig: 'local'};</script>\n",
              "        <script src=\"https://cdn.plot.ly/plotly-latest.min.js\"></script>    \n",
              "            <div id=\"a24814d4-2d00-4a65-96d5-5aa58306b334\" class=\"plotly-graph-div\" style=\"height:525px; width:100%;\"></div>\n",
              "            <script type=\"text/javascript\">\n",
              "                \n",
              "                    window.PLOTLYENV=window.PLOTLYENV || {};\n",
              "                    \n",
              "                if (document.getElementById(\"a24814d4-2d00-4a65-96d5-5aa58306b334\")) {\n",
              "                    Plotly.newPlot(\n",
              "                        'a24814d4-2d00-4a65-96d5-5aa58306b334',\n",
              "                        [{\"type\": \"bar\", \"width\": 0.5, \"x\": [\"First class\", \"Second class\", \"Third class\"], \"xaxis\": \"x\", \"y\": [216, 184, 491], \"yaxis\": \"y\"}, {\"type\": \"histogram\", \"x\": [7.25, 71.2833, 7.925, 53.1, 8.05, 8.4583, 51.8625, 21.075, 11.1333, 30.0708, 16.7, 26.55, 8.05, 31.275, 7.8542, 16.0, 29.125, 13.0, 18.0, 7.225, 26.0, 13.0, 8.0292, 35.5, 21.075, 31.3875, 7.225, 263.0, 7.8792, 7.8958, 27.7208, 146.5208, 7.75, 10.5, 82.1708, 52.0, 7.2292, 8.05, 18.0, 11.2417, 9.475, 21.0, 7.8958, 41.5792, 7.8792, 8.05, 15.5, 7.75, 21.6792, 17.8, 39.6875, 7.8, 76.7292, 26.0, 61.9792, 35.5, 10.5, 7.2292, 27.75, 46.9, 7.2292, 80.0, 83.475, 27.9, 27.7208, 15.2458, 10.5, 8.1583, 7.925, 8.6625, 10.5, 46.9, 73.5, 14.4542, 56.4958, 7.65, 7.8958, 8.05, 29.0, 12.475, 9.0, 9.5, 7.7875, 47.1, 10.5, 15.85, 34.375, 8.05, 263.0, 8.05, 8.05, 7.8542, 61.175, 20.575, 7.25, 8.05, 34.6542, 63.3583, 23.0, 26.0, 7.8958, 7.8958, 77.2875, 8.6542, 7.925, 7.8958, 7.65, 7.775, 7.8958, 24.15, 52.0, 14.4542, 8.05, 9.825, 14.4583, 7.925, 7.75, 21.0, 247.5208, 31.275, 73.5, 8.05, 30.0708, 13.0, 77.2875, 11.2417, 7.75, 7.1417, 22.3583, 6.975, 7.8958, 7.05, 14.5, 26.0, 13.0, 15.0458, 26.2833, 53.1, 9.2167, 79.2, 15.2458, 7.75, 15.85, 6.75, 11.5, 36.75, 7.7958, 34.375, 26.0, 13.0, 12.525, 66.6, 8.05, 14.5, 7.3125, 61.3792, 7.7333, 8.05, 8.6625, 69.55, 16.1, 15.75, 7.775, 8.6625, 39.6875, 20.525, 55.0, 27.9, 25.925, 56.4958, 33.5, 29.125, 11.1333, 7.925, 30.6958, 7.8542, 25.4667, 28.7125, 13.0, 0.0, 69.55, 15.05, 31.3875, 39.0, 22.025, 50.0, 15.5, 26.55, 15.5, 7.8958, 13.0, 13.0, 7.8542, 26.0, 27.7208, 146.5208, 7.75, 8.4042, 7.75, 13.0, 9.5, 69.55, 6.4958, 7.225, 8.05, 10.4625, 15.85, 18.7875, 7.75, 31.0, 7.05, 21.0, 7.25, 13.0, 7.75, 113.275, 7.925, 27.0, 76.2917, 10.5, 8.05, 13.0, 8.05, 7.8958, 90.0, 9.35, 10.5, 7.25, 13.0, 25.4667, 83.475, 7.775, 13.5, 31.3875, 10.5, 7.55, 26.0, 26.25, 10.5, 12.275, 14.4542, 15.5, 10.5, 7.125, 7.225, 90.0, 7.775, 14.5, 52.5542, 26.0, 7.25, 10.4625, 26.55, 16.1, 20.2125, 15.2458, 79.2, 86.5, 512.3292, 26.0, 7.75, 31.3875, 79.65, 0.0, 7.75, 10.5, 39.6875, 7.775, 153.4625, 135.6333, 31.0, 0.0, 19.5, 29.7, 7.75, 77.9583, 7.75, 0.0, 29.125, 20.25, 7.75, 7.8542, 9.5, 8.05, 26.0, 8.6625, 9.5, 7.8958, 13.0, 7.75, 78.85, 91.0792, 12.875, 8.85, 7.8958, 27.7208, 7.2292, 151.55, 30.5, 247.5208, 7.75, 23.25, 0.0, 12.35, 8.05, 151.55, 110.8833, 108.9, 24.0, 56.9292, 83.1583, 262.375, 26.0, 7.8958, 26.25, 7.8542, 26.0, 14.0, 164.8667, 134.5, 7.25, 7.8958, 12.35, 29.0, 69.55, 135.6333, 6.2375, 13.0, 20.525, 57.9792, 23.25, 28.5, 153.4625, 18.0, 133.65, 7.8958, 66.6, 134.5, 8.05, 35.5, 26.0, 263.0, 13.0, 13.0, 13.0, 13.0, 13.0, 16.1, 15.9, 8.6625, 9.225, 35.0, 7.2292, 17.8, 7.225, 9.5, 55.0, 13.0, 7.8792, 7.8792, 27.9, 27.7208, 14.4542, 7.05, 15.5, 7.25, 75.25, 7.2292, 7.75, 69.3, 55.4417, 6.4958, 8.05, 135.6333, 21.075, 82.1708, 7.25, 211.5, 4.0125, 7.775, 227.525, 15.7417, 7.925, 52.0, 7.8958, 73.5, 46.9, 13.0, 7.7292, 12.0, 120.0, 7.7958, 7.925, 113.275, 16.7, 7.7958, 7.8542, 26.0, 10.5, 12.65, 7.925, 8.05, 9.825, 15.85, 8.6625, 21.0, 7.75, 18.75, 7.775, 25.4667, 7.8958, 6.8583, 90.0, 0.0, 7.925, 8.05, 32.5, 13.0, 13.0, 24.15, 7.8958, 7.7333, 7.875, 14.4, 20.2125, 7.25, 26.0, 26.0, 7.75, 8.05, 26.55, 16.1, 26.0, 7.125, 55.9, 120.0, 34.375, 18.75, 263.0, 10.5, 26.25, 9.5, 7.775, 13.0, 8.1125, 81.8583, 19.5, 26.55, 19.2583, 30.5, 27.75, 19.9667, 27.75, 89.1042, 8.05, 7.8958, 26.55, 51.8625, 10.5, 7.75, 26.55, 8.05, 38.5, 13.0, 8.05, 7.05, 0.0, 26.55, 7.725, 19.2583, 7.25, 8.6625, 27.75, 13.7917, 9.8375, 52.0, 21.0, 7.0458, 7.5208, 12.2875, 46.9, 0.0, 8.05, 9.5875, 91.0792, 25.4667, 90.0, 29.7, 8.05, 15.9, 19.9667, 7.25, 30.5, 49.5042, 8.05, 14.4583, 78.2667, 15.1, 151.55, 7.7958, 8.6625, 7.75, 7.6292, 9.5875, 86.5, 108.9, 26.0, 26.55, 22.525, 56.4958, 7.75, 8.05, 26.2875, 59.4, 7.4958, 34.0208, 10.5, 24.15, 26.0, 7.8958, 93.5, 7.8958, 7.225, 57.9792, 7.2292, 7.75, 10.5, 221.7792, 7.925, 11.5, 26.0, 7.2292, 7.2292, 22.3583, 8.6625, 26.25, 26.55, 106.425, 14.5, 49.5, 71.0, 31.275, 31.275, 26.0, 106.425, 26.0, 26.0, 13.8625, 20.525, 36.75, 110.8833, 26.0, 7.8292, 7.225, 7.775, 26.55, 39.6, 227.525, 79.65, 17.4, 7.75, 7.8958, 13.5, 8.05, 8.05, 24.15, 7.8958, 21.075, 7.2292, 7.8542, 10.5, 51.4792, 26.3875, 7.75, 8.05, 14.5, 13.0, 55.9, 14.4583, 7.925, 30.0, 110.8833, 26.0, 40.125, 8.7125, 79.65, 15.0, 79.2, 8.05, 8.05, 7.125, 78.2667, 7.25, 7.75, 26.0, 24.15, 33.0, 0.0, 7.225, 56.9292, 27.0, 7.8958, 42.4, 8.05, 26.55, 15.55, 7.8958, 30.5, 41.5792, 153.4625, 31.275, 7.05, 15.5, 7.75, 8.05, 65.0, 14.4, 16.1, 39.0, 10.5, 14.4542, 52.5542, 15.7417, 7.8542, 16.1, 32.3208, 12.35, 77.9583, 7.8958, 7.7333, 30.0, 7.0542, 30.5, 0.0, 27.9, 13.0, 7.925, 26.25, 39.6875, 16.1, 7.8542, 69.3, 27.9, 56.4958, 19.2583, 76.7292, 7.8958, 35.5, 7.55, 7.55, 7.8958, 23.0, 8.4333, 7.8292, 6.75, 73.5, 7.8958, 15.5, 13.0, 113.275, 133.65, 7.225, 25.5875, 7.4958, 7.925, 73.5, 13.0, 7.775, 8.05, 52.0, 39.0, 52.0, 10.5, 13.0, 0.0, 7.775, 8.05, 9.8417, 46.9, 512.3292, 8.1375, 76.7292, 9.225, 46.9, 39.0, 41.5792, 39.6875, 10.1708, 7.7958, 211.3375, 57.0, 13.4167, 56.4958, 7.225, 26.55, 13.5, 8.05, 7.7333, 110.8833, 7.65, 227.525, 26.2875, 14.4542, 7.7417, 7.8542, 26.0, 13.5, 26.2875, 151.55, 15.2458, 49.5042, 26.55, 52.0, 9.4833, 13.0, 7.65, 227.525, 10.5, 15.5, 7.775, 33.0, 7.0542, 13.0, 13.0, 53.1, 8.6625, 21.0, 7.7375, 26.0, 7.925, 211.3375, 18.7875, 0.0, 13.0, 13.0, 16.1, 34.375, 512.3292, 7.8958, 7.8958, 30.0, 78.85, 262.375, 16.1, 7.925, 71.0, 20.25, 13.0, 53.1, 7.75, 23.0, 12.475, 9.5, 7.8958, 65.0, 14.5, 7.7958, 11.5, 8.05, 86.5, 14.5, 7.125, 7.2292, 120.0, 7.775, 77.9583, 39.6, 7.75, 24.15, 8.3625, 9.5, 7.8542, 10.5, 7.225, 23.0, 7.75, 7.75, 12.475, 7.7375, 211.3375, 7.2292, 57.0, 30.0, 23.45, 7.05, 7.25, 7.4958, 29.125, 20.575, 79.2, 7.75, 26.0, 69.55, 30.6958, 7.8958, 13.0, 25.9292, 8.6833, 7.2292, 24.15, 13.0, 26.25, 120.0, 8.5167, 6.975, 7.775, 0.0, 7.775, 13.0, 53.1, 7.8875, 24.15, 10.5, 31.275, 8.05, 0.0, 7.925, 37.0042, 6.45, 27.9, 93.5, 8.6625, 0.0, 12.475, 39.6875, 6.95, 56.4958, 37.0042, 7.75, 80.0, 14.4542, 18.75, 7.2292, 7.8542, 8.3, 83.1583, 8.6625, 8.05, 56.4958, 29.7, 7.925, 10.5, 31.0, 6.4375, 8.6625, 7.55, 69.55, 7.8958, 33.0, 89.1042, 31.275, 7.775, 15.2458, 39.4, 26.0, 9.35, 164.8667, 26.55, 19.2583, 7.2292, 14.1083, 11.5, 25.9292, 69.55, 13.0, 13.0, 13.8583, 50.4958, 9.5, 11.1333, 7.8958, 52.5542, 5.0, 9.0, 24.0, 7.225, 9.8458, 7.8958, 7.8958, 83.1583, 26.0, 7.8958, 10.5167, 10.5, 7.05, 29.125, 13.0, 30.0, 23.45, 30.0, 7.75], \"xaxis\": \"x2\", \"yaxis\": \"y2\"}],\n",
              "                        {\"annotations\": [{\"font\": {\"size\": 16}, \"showarrow\": false, \"text\": \"Passengers per class\", \"x\": 0.135, \"xanchor\": \"center\", \"xref\": \"paper\", \"y\": 1.0, \"yanchor\": \"bottom\", \"yref\": \"paper\"}, {\"font\": {\"size\": 16}, \"showarrow\": false, \"text\": \"Passenger fares\", \"x\": 0.685, \"xanchor\": \"center\", \"xref\": \"paper\", \"y\": 1.0, \"yanchor\": \"bottom\", \"yref\": \"paper\"}], \"showlegend\": false, \"template\": {\"data\": {\"bar\": [{\"error_x\": {\"color\": \"#2a3f5f\"}, \"error_y\": {\"color\": \"#2a3f5f\"}, \"marker\": {\"line\": {\"color\": \"#E5ECF6\", \"width\": 0.5}}, \"type\": \"bar\"}], \"barpolar\": [{\"marker\": {\"line\": {\"color\": \"#E5ECF6\", \"width\": 0.5}}, \"type\": \"barpolar\"}], \"carpet\": [{\"aaxis\": {\"endlinecolor\": \"#2a3f5f\", \"gridcolor\": \"white\", \"linecolor\": \"white\", \"minorgridcolor\": \"white\", \"startlinecolor\": \"#2a3f5f\"}, \"baxis\": {\"endlinecolor\": \"#2a3f5f\", \"gridcolor\": \"white\", \"linecolor\": \"white\", \"minorgridcolor\": \"white\", \"startlinecolor\": \"#2a3f5f\"}, \"type\": \"carpet\"}], \"choropleth\": [{\"colorbar\": {\"outlinewidth\": 0, \"ticks\": \"\"}, \"type\": \"choropleth\"}], \"contour\": [{\"colorbar\": {\"outlinewidth\": 0, \"ticks\": \"\"}, \"colorscale\": [[0.0, \"#0d0887\"], [0.1111111111111111, \"#46039f\"], [0.2222222222222222, \"#7201a8\"], [0.3333333333333333, \"#9c179e\"], [0.4444444444444444, \"#bd3786\"], [0.5555555555555556, \"#d8576b\"], [0.6666666666666666, \"#ed7953\"], [0.7777777777777778, \"#fb9f3a\"], [0.8888888888888888, \"#fdca26\"], [1.0, \"#f0f921\"]], \"type\": \"contour\"}], \"contourcarpet\": [{\"colorbar\": {\"outlinewidth\": 0, \"ticks\": \"\"}, \"type\": \"contourcarpet\"}], \"heatmap\": [{\"colorbar\": {\"outlinewidth\": 0, \"ticks\": \"\"}, \"colorscale\": [[0.0, \"#0d0887\"], [0.1111111111111111, \"#46039f\"], [0.2222222222222222, \"#7201a8\"], [0.3333333333333333, \"#9c179e\"], [0.4444444444444444, \"#bd3786\"], [0.5555555555555556, \"#d8576b\"], [0.6666666666666666, \"#ed7953\"], [0.7777777777777778, \"#fb9f3a\"], [0.8888888888888888, \"#fdca26\"], [1.0, \"#f0f921\"]], \"type\": \"heatmap\"}], \"heatmapgl\": [{\"colorbar\": {\"outlinewidth\": 0, \"ticks\": \"\"}, \"colorscale\": [[0.0, \"#0d0887\"], [0.1111111111111111, \"#46039f\"], [0.2222222222222222, \"#7201a8\"], [0.3333333333333333, \"#9c179e\"], [0.4444444444444444, \"#bd3786\"], [0.5555555555555556, \"#d8576b\"], [0.6666666666666666, \"#ed7953\"], [0.7777777777777778, \"#fb9f3a\"], [0.8888888888888888, \"#fdca26\"], [1.0, \"#f0f921\"]], \"type\": \"heatmapgl\"}], \"histogram\": [{\"marker\": {\"colorbar\": {\"outlinewidth\": 0, \"ticks\": \"\"}}, \"type\": \"histogram\"}], \"histogram2d\": [{\"colorbar\": {\"outlinewidth\": 0, \"ticks\": \"\"}, \"colorscale\": [[0.0, \"#0d0887\"], [0.1111111111111111, \"#46039f\"], [0.2222222222222222, \"#7201a8\"], [0.3333333333333333, \"#9c179e\"], [0.4444444444444444, \"#bd3786\"], [0.5555555555555556, \"#d8576b\"], [0.6666666666666666, \"#ed7953\"], [0.7777777777777778, \"#fb9f3a\"], [0.8888888888888888, \"#fdca26\"], [1.0, \"#f0f921\"]], \"type\": \"histogram2d\"}], \"histogram2dcontour\": [{\"colorbar\": {\"outlinewidth\": 0, \"ticks\": \"\"}, \"colorscale\": [[0.0, \"#0d0887\"], [0.1111111111111111, \"#46039f\"], [0.2222222222222222, \"#7201a8\"], [0.3333333333333333, \"#9c179e\"], [0.4444444444444444, \"#bd3786\"], [0.5555555555555556, \"#d8576b\"], [0.6666666666666666, \"#ed7953\"], [0.7777777777777778, \"#fb9f3a\"], [0.8888888888888888, \"#fdca26\"], [1.0, \"#f0f921\"]], \"type\": \"histogram2dcontour\"}], \"mesh3d\": [{\"colorbar\": {\"outlinewidth\": 0, \"ticks\": \"\"}, \"type\": \"mesh3d\"}], \"parcoords\": [{\"line\": {\"colorbar\": {\"outlinewidth\": 0, \"ticks\": \"\"}}, \"type\": \"parcoords\"}], \"pie\": [{\"automargin\": true, \"type\": \"pie\"}], \"scatter\": [{\"marker\": {\"colorbar\": {\"outlinewidth\": 0, \"ticks\": \"\"}}, \"type\": \"scatter\"}], \"scatter3d\": [{\"line\": {\"colorbar\": {\"outlinewidth\": 0, \"ticks\": \"\"}}, \"marker\": {\"colorbar\": {\"outlinewidth\": 0, \"ticks\": \"\"}}, \"type\": \"scatter3d\"}], \"scattercarpet\": [{\"marker\": {\"colorbar\": {\"outlinewidth\": 0, \"ticks\": \"\"}}, \"type\": \"scattercarpet\"}], \"scattergeo\": [{\"marker\": {\"colorbar\": {\"outlinewidth\": 0, \"ticks\": \"\"}}, \"type\": \"scattergeo\"}], \"scattergl\": [{\"marker\": {\"colorbar\": {\"outlinewidth\": 0, \"ticks\": \"\"}}, \"type\": \"scattergl\"}], \"scattermapbox\": [{\"marker\": {\"colorbar\": {\"outlinewidth\": 0, \"ticks\": \"\"}}, \"type\": \"scattermapbox\"}], \"scatterpolar\": [{\"marker\": {\"colorbar\": {\"outlinewidth\": 0, \"ticks\": \"\"}}, \"type\": \"scatterpolar\"}], \"scatterpolargl\": [{\"marker\": {\"colorbar\": {\"outlinewidth\": 0, \"ticks\": \"\"}}, \"type\": \"scatterpolargl\"}], \"scatterternary\": [{\"marker\": {\"colorbar\": {\"outlinewidth\": 0, \"ticks\": \"\"}}, \"type\": \"scatterternary\"}], \"surface\": [{\"colorbar\": {\"outlinewidth\": 0, \"ticks\": \"\"}, \"colorscale\": [[0.0, \"#0d0887\"], [0.1111111111111111, \"#46039f\"], [0.2222222222222222, \"#7201a8\"], [0.3333333333333333, \"#9c179e\"], [0.4444444444444444, \"#bd3786\"], [0.5555555555555556, \"#d8576b\"], [0.6666666666666666, \"#ed7953\"], [0.7777777777777778, \"#fb9f3a\"], [0.8888888888888888, \"#fdca26\"], [1.0, \"#f0f921\"]], \"type\": \"surface\"}], \"table\": [{\"cells\": {\"fill\": {\"color\": \"#EBF0F8\"}, \"line\": {\"color\": \"white\"}}, \"header\": {\"fill\": {\"color\": \"#C8D4E3\"}, \"line\": {\"color\": \"white\"}}, \"type\": \"table\"}]}, \"layout\": {\"annotationdefaults\": {\"arrowcolor\": \"#2a3f5f\", \"arrowhead\": 0, \"arrowwidth\": 1}, \"coloraxis\": {\"colorbar\": {\"outlinewidth\": 0, \"ticks\": \"\"}}, \"colorscale\": {\"diverging\": [[0, \"#8e0152\"], [0.1, \"#c51b7d\"], [0.2, \"#de77ae\"], [0.3, \"#f1b6da\"], [0.4, \"#fde0ef\"], [0.5, \"#f7f7f7\"], [0.6, \"#e6f5d0\"], [0.7, \"#b8e186\"], [0.8, \"#7fbc41\"], [0.9, \"#4d9221\"], [1, \"#276419\"]], \"sequential\": [[0.0, \"#0d0887\"], [0.1111111111111111, \"#46039f\"], [0.2222222222222222, \"#7201a8\"], [0.3333333333333333, \"#9c179e\"], [0.4444444444444444, \"#bd3786\"], [0.5555555555555556, \"#d8576b\"], [0.6666666666666666, \"#ed7953\"], [0.7777777777777778, \"#fb9f3a\"], [0.8888888888888888, \"#fdca26\"], [1.0, \"#f0f921\"]], \"sequentialminus\": [[0.0, \"#0d0887\"], [0.1111111111111111, \"#46039f\"], [0.2222222222222222, \"#7201a8\"], [0.3333333333333333, \"#9c179e\"], [0.4444444444444444, \"#bd3786\"], [0.5555555555555556, \"#d8576b\"], [0.6666666666666666, \"#ed7953\"], [0.7777777777777778, \"#fb9f3a\"], [0.8888888888888888, \"#fdca26\"], [1.0, \"#f0f921\"]]}, \"colorway\": [\"#636efa\", \"#EF553B\", \"#00cc96\", \"#ab63fa\", \"#FFA15A\", \"#19d3f3\", \"#FF6692\", \"#B6E880\", \"#FF97FF\", \"#FECB52\"], \"font\": {\"color\": \"#2a3f5f\"}, \"geo\": {\"bgcolor\": \"white\", \"lakecolor\": \"white\", \"landcolor\": \"#E5ECF6\", \"showlakes\": true, \"showland\": true, \"subunitcolor\": \"white\"}, \"hoverlabel\": {\"align\": \"left\"}, \"hovermode\": \"closest\", \"mapbox\": {\"style\": \"light\"}, \"paper_bgcolor\": \"white\", \"plot_bgcolor\": \"#E5ECF6\", \"polar\": {\"angularaxis\": {\"gridcolor\": \"white\", \"linecolor\": \"white\", \"ticks\": \"\"}, \"bgcolor\": \"#E5ECF6\", \"radialaxis\": {\"gridcolor\": \"white\", \"linecolor\": \"white\", \"ticks\": \"\"}}, \"scene\": {\"xaxis\": {\"backgroundcolor\": \"#E5ECF6\", \"gridcolor\": \"white\", \"gridwidth\": 2, \"linecolor\": \"white\", \"showbackground\": true, \"ticks\": \"\", \"zerolinecolor\": \"white\"}, \"yaxis\": {\"backgroundcolor\": \"#E5ECF6\", \"gridcolor\": \"white\", \"gridwidth\": 2, \"linecolor\": \"white\", \"showbackground\": true, \"ticks\": \"\", \"zerolinecolor\": \"white\"}, \"zaxis\": {\"backgroundcolor\": \"#E5ECF6\", \"gridcolor\": \"white\", \"gridwidth\": 2, \"linecolor\": \"white\", \"showbackground\": true, \"ticks\": \"\", \"zerolinecolor\": \"white\"}}, \"shapedefaults\": {\"line\": {\"color\": \"#2a3f5f\"}}, \"ternary\": {\"aaxis\": {\"gridcolor\": \"white\", \"linecolor\": \"white\", \"ticks\": \"\"}, \"baxis\": {\"gridcolor\": \"white\", \"linecolor\": \"white\", \"ticks\": \"\"}, \"bgcolor\": \"#E5ECF6\", \"caxis\": {\"gridcolor\": \"white\", \"linecolor\": \"white\", \"ticks\": \"\"}}, \"title\": {\"x\": 0.05}, \"xaxis\": {\"automargin\": true, \"gridcolor\": \"white\", \"linecolor\": \"white\", \"ticks\": \"\", \"title\": {\"standoff\": 15}, \"zerolinecolor\": \"white\", \"zerolinewidth\": 2}, \"yaxis\": {\"automargin\": true, \"gridcolor\": \"white\", \"linecolor\": \"white\", \"ticks\": \"\", \"title\": {\"standoff\": 15}, \"zerolinecolor\": \"white\", \"zerolinewidth\": 2}}}, \"xaxis\": {\"anchor\": \"y\", \"domain\": [0.0, 0.27]}, \"xaxis2\": {\"anchor\": \"y2\", \"domain\": [0.37, 1.0]}, \"yaxis\": {\"anchor\": \"x\", \"domain\": [0.0, 1.0]}, \"yaxis2\": {\"anchor\": \"x2\", \"domain\": [0.0, 1.0]}},\n",
              "                        {\"responsive\": true}\n",
              "                    ).then(function(){\n",
              "                            \n",
              "var gd = document.getElementById('a24814d4-2d00-4a65-96d5-5aa58306b334');\n",
              "var x = new MutationObserver(function (mutations, observer) {{\n",
              "        var display = window.getComputedStyle(gd).display;\n",
              "        if (!display || display === 'none') {{\n",
              "            console.log([gd, 'removed!']);\n",
              "            Plotly.purge(gd);\n",
              "            observer.disconnect();\n",
              "        }}\n",
              "}});\n",
              "\n",
              "// Listen for the removal of the full notebook cells\n",
              "var notebookContainer = gd.closest('#notebook-container');\n",
              "if (notebookContainer) {{\n",
              "    x.observe(notebookContainer, {childList: true});\n",
              "}}\n",
              "\n",
              "// Listen for the clearing of the current output cell\n",
              "var outputEl = gd.closest('.output');\n",
              "if (outputEl) {{\n",
              "    x.observe(outputEl, {childList: true});\n",
              "}}\n",
              "\n",
              "                        })\n",
              "                };\n",
              "                \n",
              "            </script>\n",
              "        </div>\n",
              "</body>\n",
              "</html>"
            ]
          },
          "metadata": {
            "tags": []
          }
        }
      ]
    },
    {
      "cell_type": "markdown",
      "metadata": {
        "id": "Z2bF300d2S67"
      },
      "source": [
        "## Clean data"
      ]
    },
    {
      "cell_type": "code",
      "metadata": {
        "id": "5Cj1vA9D2S67",
        "colab": {
          "base_uri": "https://localhost:8080/"
        },
        "outputId": "3fba372d-df31-4144-8b0e-d52c9d04a151"
      },
      "source": [
        "# Determine columns with missing data\n",
        "\n",
        "null_cols = X_train.isnull().any()\n",
        "print(f'Training set columns with missing data: {null_cols[null_cols].index.tolist()}')\n",
        "\n",
        "null_cols = X_test.isnull().any()\n",
        "print(f'Test set columns with missing data: {null_cols[null_cols].index.tolist()}')\n",
        "\n",
        "# Examine missing age data\n",
        "num_missing = X_train[Col.age].isnull().sum()\n",
        "print(f'\\n{num_missing} entries out of {len(y_train)} are missing age data.')\n",
        "\n",
        "# Examine missing fare data\n",
        "num_missing = X_test[Col.fare].isnull().sum()\n",
        "print(f'\\n{num_missing} entries out of {len(y_train)} (in the test set) are missing fare data.')\n",
        "\n",
        "# Examine missing cabin data\n",
        "num_missing = X_train[Col.cabin].isnull().sum()\n",
        "num_unique = len(X_train[Col.cabin].unique())\n",
        "print(f'\\n{num_missing} entries out of {len(y_train)} are missing cabin data.')\n",
        "print(f'From the data we do have, there are {num_unique - 1} unique values')\n",
        "\n",
        "# Examine missing embarkation data\n",
        "\n",
        "num_missing = X_train[Col.embarked].isnull().sum()\n",
        "num_unique = len(X_train[Col.embarked].unique())\n",
        "print(f'\\n{num_missing} entries out of {len(y_train)} are missing embarkation data.')\n",
        "print(f'From the data we do have, there are {num_unique - 1} unique values')\n"
      ],
      "execution_count": 7,
      "outputs": [
        {
          "output_type": "stream",
          "text": [
            "Training set columns with missing data: ['Age', 'Cabin', 'Embarked']\n",
            "Test set columns with missing data: ['Age', 'Fare', 'Cabin']\n",
            "\n",
            "177 entries out of 891 are missing age data.\n",
            "\n",
            "1 entries out of 891 (in the test set) are missing fare data.\n",
            "\n",
            "687 entries out of 891 are missing cabin data.\n",
            "From the data we do have, there are 147 unique values\n",
            "\n",
            "2 entries out of 891 are missing embarkation data.\n",
            "From the data we do have, there are 3 unique values\n"
          ],
          "name": "stdout"
        }
      ]
    },
    {
      "cell_type": "markdown",
      "metadata": {
        "id": "fAzHiZH62S68"
      },
      "source": [
        "## Columns with missing data across both the training and test sets\n",
        "\n",
        "### Age (numerical)\n",
        "20% of the training set is missing age data. That's enough entries that we can't just drop them, but probably not enough that we'd be inclined to drop the entire column. Therefore, the missing values should be imputed. Using zero, minimum, and maximum don't make sense for age, so we'll use the median value here.\n",
        "\n",
        "### Cabin (categorical)\n",
        "A lot more entries are missing cabin data (about 77%). Not only that, but it would be more complicated to impute cabin data. There's a wide range of possible values, and you can't exactly say that nearly 700 people stayed in the same (most common value) cabin. We'll drop this column for the purposes of this project.\n",
        "\n",
        "### Embarked (categorical)\n",
        "This feature seems to only have 3 possible values (i.e. 3 possible ports of embarkation). Only having 2 entries missing this feature means we could just drop them, but we'll impute the most common value instead because this is a pretty small dataset.\n",
        "\n",
        "### Fare (numerical)\n",
        "Only one entry is missing this feature. Since fare is more continuous than age, we'll impute the mean instead of median (though there probably wouldn't be much of a difference). This missing entry is in the test set though, so we have to be sure to use the training set's mean in order to avoid data leakage.\n",
        "\n",
        "## Additional columns to drop\n",
        "The name and ticket features most likely have negligible impact on survival (especially name). They may even lead the model to become incorrectly biased towards certain names just because they coincidentally appear in the dataset more. For these reasons, we'll drop both columns."
      ]
    },
    {
      "cell_type": "code",
      "metadata": {
        "id": "PtrAEr1g2S69"
      },
      "source": [
        "# Drop unneeded features\n",
        "X_train = X_train.drop(columns = [Col.cabin, Col.name, Col.ticket])\n",
        "X_test = X_test.drop(columns = [Col.cabin, Col.name, Col.ticket])\n",
        "\n",
        "# Define imputers\n",
        "median_inputer = SimpleImputer(strategy = 'median')\n",
        "freq_imputer = SimpleImputer(strategy = 'most_frequent')\n",
        "fare_mean = X_train[Col.fare].mean()\n",
        "\n",
        "# Define one hot encoding for categorical features\n",
        "\n",
        "is_cat_col = X_train.dtypes == 'object'\n",
        "cat_cols = is_cat_col[is_cat_col].index.tolist()\n",
        "\n",
        "onehot_pipeline = make_pipeline(\n",
        "    freq_imputer,\n",
        "    OneHotEncoder()\n",
        ")\n",
        "\n",
        "# Set up the preprocessing pipeline\n",
        "preprocessor = ColumnTransformer(transformers = [\n",
        "    ('median_inputer', median_inputer, [Col.age]),\n",
        "    ('onehot', onehot_pipeline, cat_cols)\n",
        "])"
      ],
      "execution_count": 8,
      "outputs": []
    },
    {
      "cell_type": "markdown",
      "metadata": {
        "id": "Q89wxY_Y2S6-"
      },
      "source": [
        "###### Quick note\n",
        "Sex is a feature that could be binary encoded for this dataset (though it's important to note that this isn't always the case, since there could be other possible values such as 'Choose not to answer'). The primary advantage of binary vs. one-hot encoding is on the performance side, since one-hot encoding would add an additional column compared to binary. However, this dataset is relatively tiny, so the performance difference is negligible.\n"
      ]
    },
    {
      "cell_type": "markdown",
      "metadata": {
        "id": "kOE2ZWMJ2S6-"
      },
      "source": [
        "# Choosing the right model\n",
        "Scikit-learn has a [useful diagram](https://scikit-learn.org/stable/tutorial/machine_learning_map/index.html) for choosing the right model for your problem. Ours is a classification problem, and we have a number of options here. Since the dataset is so small, we can afford to try out and evaluate multiple types of models without worrying about long wait times.\n",
        "\n",
        "We'll try out the following models, along with a grid search for each one to find the best hyperparameters:\n",
        "- [K neighbors classifier](https://scikit-learn.org/stable/modules/generated/sklearn.neighbors.KNeighborsClassifier.html)\n",
        "- [Random forest classifier](https://scikit-learn.org/stable/modules/generated/sklearn.ensemble.RandomForestClassifier.html)\n",
        "- [SVC](https://scikit-learn.org/stable/modules/generated/sklearn.svm.SVC.html)\n",
        "\n",
        "We'll also leverage the preprocessing pipeline set up above during our grid search so that the data is in good shape.\n",
        "\n",
        "## Model evaluation\n",
        "\n",
        "### Scoring\n",
        "For this competition, we only really care about accuracy. The best performing model in terms of accuracy will be the final model we run and submit on the test set.\n",
        "\n",
        "### Validation\n",
        "Sklearn's GridSearchCV already performs cross validation when selecting the best model. However, we'll still want to split off some exta validation data to run through the model outside of grid search. This allows us to estimate how well the model would perform in the \"real world\"."
      ]
    },
    {
      "cell_type": "code",
      "metadata": {
        "id": "c8lRr_XY2S6-"
      },
      "source": [
        "# Define models\n",
        "knn = KNeighborsClassifier()\n",
        "forest = RandomForestClassifier(random_state = 42)\n",
        "svc = SVC(random_state = 42)\n",
        "\n",
        "# Map models to their hyperparameters for grid search\n",
        "model_step_name = 'model'\n",
        "models = [\n",
        "    # Prepend params with the pipeline step to apply the params to\n",
        "    (knn, {\n",
        "        f'{model_step_name}__n_neighbors': [3, 5, 7, 9, 11],\n",
        "        f'{model_step_name}__p': [1, 2]\n",
        "    }),\n",
        "    (forest, {\n",
        "        f'{model_step_name}__n_estimators': [5, 10, 20, 40, 80],\n",
        "        f'{model_step_name}__min_samples_split': [2, 3, 5, 8],\n",
        "        f'{model_step_name}__min_samples_leaf': [2, 4, 8, 16, 32],\n",
        "    }),\n",
        "    (svc, {\n",
        "        f'{model_step_name}__C': [0.1, 0.5, 5, 25],\n",
        "        f'{model_step_name}__kernel': ['linear', 'poly', 'rbf', 'sigmoid'],\n",
        "        f'{model_step_name}__degree': [1, 2, 3, 4]\n",
        "    }),\n",
        "]"
      ],
      "execution_count": 9,
      "outputs": []
    },
    {
      "cell_type": "code",
      "metadata": {
        "id": "63k3HLAk2S6_",
        "colab": {
          "base_uri": "https://localhost:8080/"
        },
        "outputId": "598f17a3-0603-4fbe-ea33-7805cce6d2b2"
      },
      "source": [
        "# Split out the validation data\n",
        "X_train, X_valid, y_train, y_valid = train_test_split(\n",
        "    X_train,\n",
        "    y_train,\n",
        "    test_size = 0.2,\n",
        "    random_state = 42\n",
        ")\n",
        "\n",
        "# Run \n",
        "for model in models:\n",
        "    # Manually set the pipeline step name for the model so it matches the param grid\n",
        "    pipeline = Pipeline([\n",
        "        ('preprocessor', preprocessor),\n",
        "        (model_step_name, model[0])])\n",
        "    \n",
        "    clf = GridSearchCV(\n",
        "        pipeline,\n",
        "        param_grid = model[1],\n",
        "        scoring = make_scorer(accuracy_score),\n",
        "        cv = StratifiedKFold()\n",
        "    )\n",
        "    clf.fit(X_train, y_train)\n",
        "    \n",
        "    print(f'Model: {model[0].__class__.__name__}\\n')\n",
        "    print(f'Training results')\n",
        "    print(f'Best accuracy: {round(clf.best_score_, 4)}')\n",
        "    print(f'Best hyperparameters: {clf.best_params_}\\n')\n",
        "    \n",
        "    # Now run on the validation set\n",
        "    best_model = clf.best_estimator_\n",
        "    preds = best_model.predict(X_valid)\n",
        "    accuracy = accuracy_score(y_valid, preds)\n",
        "    print(f'Validation accuracy: {round(accuracy, 4)}\\n\\n===============================\\n')"
      ],
      "execution_count": 10,
      "outputs": [
        {
          "output_type": "stream",
          "text": [
            "Model: KNeighborsClassifier\n",
            "\n",
            "Training results\n",
            "Best accuracy: 0.7824\n",
            "Best hyperparameters: {'model__n_neighbors': 5, 'model__p': 1}\n",
            "\n",
            "Validation accuracy: 0.7765\n",
            "\n",
            "===============================\n",
            "\n",
            "Model: RandomForestClassifier\n",
            "\n",
            "Training results\n",
            "Best accuracy: 0.7963\n",
            "Best hyperparameters: {'model__min_samples_leaf': 8, 'model__min_samples_split': 2, 'model__n_estimators': 40}\n",
            "\n",
            "Validation accuracy: 0.7709\n",
            "\n",
            "===============================\n",
            "\n",
            "Model: SVC\n",
            "\n",
            "Training results\n",
            "Best accuracy: 0.7949\n",
            "Best hyperparameters: {'model__C': 25, 'model__degree': 1, 'model__kernel': 'rbf'}\n",
            "\n",
            "Validation accuracy: 0.7821\n",
            "\n",
            "===============================\n",
            "\n"
          ],
          "name": "stdout"
        }
      ]
    },
    {
      "cell_type": "markdown",
      "metadata": {
        "id": "soB3guL79SLd"
      },
      "source": [
        "## Test results\n",
        "\n",
        "It looks like the SVC performed the best, with a 78.21% accuracy score on the validation set. We'll use that for our final model."
      ]
    },
    {
      "cell_type": "markdown",
      "metadata": {
        "id": "_xtnshetWpDN"
      },
      "source": [
        ""
      ]
    },
    {
      "cell_type": "markdown",
      "metadata": {
        "id": "J8AF8JyqVzV6"
      },
      "source": [
        "## Final run and submission"
      ]
    },
    {
      "cell_type": "code",
      "metadata": {
        "id": "TeMD2tV2SGgw"
      },
      "source": [
        "# Final model\n",
        "model = SVC(\n",
        "    random_state = 42,\n",
        "    C = 25,\n",
        "    degree = 1,\n",
        "    kernel = 'rbf'\n",
        ")\n",
        "\n",
        "pipeline = make_pipeline(preprocessor, model);\n",
        "pipeline.fit(X_train, y_train)\n",
        "\n",
        "preds = pipeline.predict(X_test)"
      ],
      "execution_count": 13,
      "outputs": []
    },
    {
      "cell_type": "code",
      "metadata": {
        "id": "lEVRBw6dVq_N"
      },
      "source": [
        "# Pair with passenger IDs\n",
        "ids = X_test[Col.id]\n",
        "ids = ids.to_list()\n",
        "\n",
        "output = list(zip(ids, preds))\n",
        "\n",
        "# Output to CSV\n",
        "with open('submission.csv', mode = 'w') as file:\n",
        "  writer = csv.writer(file)\n",
        "  writer.writerow(['PassengerId', 'Survived'])\n",
        "\n",
        "  for o in output:\n",
        "    writer.writerow([o[0], o[1]])\n",
        "  "
      ],
      "execution_count": 18,
      "outputs": []
    },
    {
      "cell_type": "code",
      "metadata": {
        "id": "QKiWj6p5ffKX",
        "outputId": "03f553b1-7978-43ce-f7fd-27eadb252d53",
        "colab": {
          "base_uri": "https://localhost:8080/",
          "height": 17
        }
      },
      "source": [
        "# Colab-specific, downloads the file to local machine\n",
        "from google.colab import files\n",
        "files.download('submission.csv')"
      ],
      "execution_count": 19,
      "outputs": [
        {
          "output_type": "display_data",
          "data": {
            "application/javascript": [
              "\n",
              "    async function download(id, filename, size) {\n",
              "      if (!google.colab.kernel.accessAllowed) {\n",
              "        return;\n",
              "      }\n",
              "      const div = document.createElement('div');\n",
              "      const label = document.createElement('label');\n",
              "      label.textContent = `Downloading \"${filename}\": `;\n",
              "      div.appendChild(label);\n",
              "      const progress = document.createElement('progress');\n",
              "      progress.max = size;\n",
              "      div.appendChild(progress);\n",
              "      document.body.appendChild(div);\n",
              "\n",
              "      const buffers = [];\n",
              "      let downloaded = 0;\n",
              "\n",
              "      const channel = await google.colab.kernel.comms.open(id);\n",
              "      // Send a message to notify the kernel that we're ready.\n",
              "      channel.send({})\n",
              "\n",
              "      for await (const message of channel.messages) {\n",
              "        // Send a message to notify the kernel that we're ready.\n",
              "        channel.send({})\n",
              "        if (message.buffers) {\n",
              "          for (const buffer of message.buffers) {\n",
              "            buffers.push(buffer);\n",
              "            downloaded += buffer.byteLength;\n",
              "            progress.value = downloaded;\n",
              "          }\n",
              "        }\n",
              "      }\n",
              "      const blob = new Blob(buffers, {type: 'application/binary'});\n",
              "      const a = document.createElement('a');\n",
              "      a.href = window.URL.createObjectURL(blob);\n",
              "      a.download = filename;\n",
              "      div.appendChild(a);\n",
              "      a.click();\n",
              "      div.remove();\n",
              "    }\n",
              "  "
            ],
            "text/plain": [
              "<IPython.core.display.Javascript object>"
            ]
          },
          "metadata": {
            "tags": []
          }
        },
        {
          "output_type": "display_data",
          "data": {
            "application/javascript": [
              "download(\"download_b2581fea-1379-47c3-bd6b-17bb7a441b86\", \"submission.csv\", 3258)"
            ],
            "text/plain": [
              "<IPython.core.display.Javascript object>"
            ]
          },
          "metadata": {
            "tags": []
          }
        }
      ]
    }
  ]
}